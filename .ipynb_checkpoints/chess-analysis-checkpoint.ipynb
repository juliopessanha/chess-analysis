{
 "cells": [
  {
   "cell_type": "code",
   "execution_count": 1,
   "metadata": {},
   "outputs": [],
   "source": [
    "import chesscom\n",
    "\n",
    "chess = chesscom.chess()"
   ]
  },
  {
   "cell_type": "code",
   "execution_count": null,
   "metadata": {},
   "outputs": [],
   "source": [
    "chess.extract('Hallsand')"
   ]
  },
  {
   "cell_type": "code",
   "execution_count": 52,
   "metadata": {
    "scrolled": false
   },
   "outputs": [
    {
     "name": "stdout",
     "output_type": "stream",
     "text": [
      "--------------------------------------------------\n",
      "      Chess analysis for Hallsand \n",
      "--------------------------------------------------\n",
      "\n",
      "Hallsand played 518 games\n",
      "\n",
      "  Wins 277 (53.47%)\n",
      "  Draws 16 (3.09%)\n",
      "  Loses 225 (43.44%)\n",
      "\n",
      "Most played opening as\n",
      "    White: Reti-Opening, with 50.68% winrate\n",
      "    Black: Caro-Kann-Defense, with 44.62% winrate\n",
      "\n",
      "-----------------\n",
      "\n",
      "Arch-enemy: ClimatBR\n",
      "\n",
      "Hallsand won 21 games out of 27 against ClimatBR\n",
      "\n",
      "  Wins: 77.78%\n",
      "  Draws: 0.0%\n",
      "  Loses: 22.22%\n",
      "\n"
     ]
    }
   ],
   "source": [
    "chess.stats()"
   ]
  },
  {
   "cell_type": "code",
   "execution_count": null,
   "metadata": {},
   "outputs": [],
   "source": []
  }
 ],
 "metadata": {
  "kernelspec": {
   "display_name": "Python 3",
   "language": "python",
   "name": "python3"
  },
  "language_info": {
   "codemirror_mode": {
    "name": "ipython",
    "version": 3
   },
   "file_extension": ".py",
   "mimetype": "text/x-python",
   "name": "python",
   "nbconvert_exporter": "python",
   "pygments_lexer": "ipython3",
   "version": "3.8.10"
  }
 },
 "nbformat": 4,
 "nbformat_minor": 4
}
