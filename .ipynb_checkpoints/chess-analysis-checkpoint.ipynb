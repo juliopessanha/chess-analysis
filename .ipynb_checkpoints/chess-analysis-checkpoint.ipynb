{
 "cells": [
  {
   "cell_type": "code",
   "execution_count": 1,
   "metadata": {},
   "outputs": [],
   "source": [
    "from chesscom import chess\n",
    "\n",
    "chess = chesscom.chess()"
   ]
  },
  {
   "cell_type": "code",
   "execution_count": null,
   "metadata": {},
   "outputs": [],
   "source": [
    "chess.extract('Hikaru')"
   ]
  },
  {
   "cell_type": "code",
   "execution_count": 8,
   "metadata": {
    "scrolled": false
   },
   "outputs": [
    {
     "name": "stdout",
     "output_type": "stream",
     "text": [
      "--------------------------------------------------\n",
      "   Chess analysis for Hikaru  - All Time Controls\n",
      "--------------------------------------------------\n",
      "\n",
      "Hikaru played 39057 games\n",
      "\n",
      "  Wins 31045 (79.49%)\n",
      "  Draws 3070 (7.86%)\n",
      "  Loses 4942 (12.65%)\n",
      "\n",
      "Most played opening as\n",
      "    White: Nimzowitsch-Larsen-Attack, with 83.3% winrate\n",
      "    Black: Modern-Defense, with 80.83% winrate\n"
     ]
    }
   ],
   "source": [
    "chess.stats()"
   ]
  },
  {
   "cell_type": "code",
   "execution_count": 9,
   "metadata": {
    "scrolled": true
   },
   "outputs": [
    {
     "name": "stdout",
     "output_type": "stream",
     "text": [
      "--------------------------------------------------\n",
      "   Chess analysis for Hikaru  - Blitz\n",
      "--------------------------------------------------\n",
      "Current ELO: 3154\n",
      "Peak ELO: 3280\n",
      "\n",
      "Hikaru played 71 games\n",
      "\n",
      "  Wins 62 (87.32%)\n",
      "  Draws 5 (7.04%)\n",
      "  Loses 4 (5.63%)\n",
      "\n",
      "Most played opening as\n",
      "    White: Sicilian-Defense, with 92.31% winrate\n",
      "    Black: Reti-Opening, with 75.0% winrate\n"
     ]
    }
   ],
   "source": [
    "chess.stats('blitz', opponent = 'GMKrikor')"
   ]
  },
  {
   "cell_type": "code",
   "execution_count": 10,
   "metadata": {
    "scrolled": false
   },
   "outputs": [
    {
     "name": "stdout",
     "output_type": "stream",
     "text": [
      "--------------------------------------------------\n",
      "   Chess analysis for Hikaru  - Rapid\n",
      "--------------------------------------------------\n",
      "Current ELO: 2740\n",
      "Peak ELO: 3250\n",
      "\n",
      "Hikaru played 399 games\n",
      "\n",
      "  Wins 303 (75.94%)\n",
      "  Draws 48 (12.03%)\n",
      "  Loses 48 (12.03%)\n",
      "\n",
      "Most played opening as\n",
      "    White: Reti-Opening, with 62.5% winrate\n",
      "    Black: Sicilian-Defense, with 68.18% winrate\n",
      "\n",
      "-----------------\n",
      "\n",
      "Arch-enemy: PlayKomodo\n",
      "\n",
      "Hikaru won 0 games out of 10 against PlayKomodo\n",
      "\n",
      "  Wins: 0.0%\n",
      "  Draws: 0.0%\n",
      "  Loses: 100.0%\n",
      "\n"
     ]
    }
   ],
   "source": [
    "chess.stats('rapid', ArchEnemy = True)"
   ]
  }
 ],
 "metadata": {
  "kernelspec": {
   "display_name": "Python 3",
   "language": "python",
   "name": "python3"
  },
  "language_info": {
   "codemirror_mode": {
    "name": "ipython",
    "version": 3
   },
   "file_extension": ".py",
   "mimetype": "text/x-python",
   "name": "python",
   "nbconvert_exporter": "python",
   "pygments_lexer": "ipython3",
   "version": "3.8.10"
  }
 },
 "nbformat": 4,
 "nbformat_minor": 4
}
