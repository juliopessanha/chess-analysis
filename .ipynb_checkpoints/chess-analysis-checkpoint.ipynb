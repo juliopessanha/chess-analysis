{
 "cells": [
  {
   "cell_type": "code",
   "execution_count": 1,
   "metadata": {},
   "outputs": [],
   "source": [
    "import chesscom\n",
    "\n",
    "chess = chesscom.chess()"
   ]
  },
  {
   "cell_type": "code",
   "execution_count": null,
   "metadata": {},
   "outputs": [],
   "source": [
    "chess.extract('GMKrikor')"
   ]
  },
  {
   "cell_type": "code",
   "execution_count": 3,
   "metadata": {
    "scrolled": false
   },
   "outputs": [
    {
     "name": "stdout",
     "output_type": "stream",
     "text": [
      "--------------------------------------------------\n",
      "   Chess analysis for GMKrikor  - All Time Controls\n",
      "--------------------------------------------------\n",
      "\n",
      "GMKrikor played 21130 games\n",
      "\n",
      "  Wins 13475 (63.77%)\n",
      "  Draws 1850 (8.76%)\n",
      "  Loses 5805 (27.47%)\n",
      "\n",
      "Most played opening as\n",
      "    White: English-Opening, with 58.62% winrate\n",
      "    Black: Sicilian-Defense, with 62.38% winrate\n"
     ]
    }
   ],
   "source": [
    "chess.stats()"
   ]
  },
  {
   "cell_type": "code",
   "execution_count": 4,
   "metadata": {},
   "outputs": [
    {
     "name": "stdout",
     "output_type": "stream",
     "text": [
      "--------------------------------------------------\n",
      "   Chess analysis for GMKrikor  - Blitz\n",
      "--------------------------------------------------\n",
      "Current ELO: 2719\n",
      "Peak ELO: 2809\n",
      "\n",
      "GMKrikor played 110 games\n",
      "\n",
      "  Wins 62 (56.36%)\n",
      "  Draws 11 (10.0%)\n",
      "  Loses 37 (33.64%)\n",
      "\n",
      "Most played opening as\n",
      "    White: Trompowsky-Attack, with 50.0% winrate\n",
      "    Black: Caro-Kann-Defense, with 50.0% winrate\n"
     ]
    }
   ],
   "source": [
    "chess.stats('blitz', after = '2021-10-10', before = '2021-11-19')"
   ]
  },
  {
   "cell_type": "code",
   "execution_count": 5,
   "metadata": {},
   "outputs": [
    {
     "name": "stdout",
     "output_type": "stream",
     "text": [
      "--------------------------------------------------\n",
      "   Chess analysis for GMKrikor  - Rapid\n",
      "--------------------------------------------------\n",
      "Current ELO: 2571\n",
      "Peak ELO: 2866\n",
      "\n",
      "GMKrikor played 347 games\n",
      "\n",
      "  Wins 267 (76.95%)\n",
      "  Draws 32 (9.22%)\n",
      "  Loses 48 (13.83%)\n",
      "\n",
      "Most played opening as\n",
      "    White: Sicilian-Defense, with 83.87% winrate\n",
      "    Black: Sicilian-Defense, with 82.69% winrate\n",
      "\n",
      "-----------------\n",
      "\n",
      "Arch-enemy: Komodo16\n",
      "\n",
      "GMKrikor won 2 games out of 7 against Komodo16\n",
      "\n",
      "  Wins: 28.57%\n",
      "  Draws: 28.57%\n",
      "  Loses: 42.86%\n",
      "\n"
     ]
    }
   ],
   "source": [
    "chess.stats('rapid', ArchEnemy = True)"
   ]
  }
 ],
 "metadata": {
  "kernelspec": {
   "display_name": "Python 3",
   "language": "python",
   "name": "python3"
  },
  "language_info": {
   "codemirror_mode": {
    "name": "ipython",
    "version": 3
   },
   "file_extension": ".py",
   "mimetype": "text/x-python",
   "name": "python",
   "nbconvert_exporter": "python",
   "pygments_lexer": "ipython3",
   "version": "3.8.10"
  }
 },
 "nbformat": 4,
 "nbformat_minor": 4
}
