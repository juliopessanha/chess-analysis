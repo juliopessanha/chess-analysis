{
 "cells": [
  {
   "cell_type": "code",
   "execution_count": 1,
   "metadata": {},
   "outputs": [],
   "source": [
    "import chesscom\n",
    "\n",
    "chess = chesscom.chess()"
   ]
  },
  {
   "cell_type": "code",
   "execution_count": 2,
   "metadata": {},
   "outputs": [
    {
     "name": "stdout",
     "output_type": "stream",
     "text": [
      "Solving Hikaru online data...\n",
      "Refilling folder /home/julio/Desktop/Data_Projects/chess/chess-analysis/PGN/hikaru/2021-11\n",
      "Hikaru data solved.\n",
      "Creating dataframe\n",
      "Done\n"
     ]
    }
   ],
   "source": [
    "chess.extract('Hikaru')"
   ]
  },
  {
   "cell_type": "code",
   "execution_count": 3,
   "metadata": {
    "scrolled": false
   },
   "outputs": [
    {
     "name": "stdout",
     "output_type": "stream",
     "text": [
      "--------------------------------------------------\n",
      "   Chess analysis for Hikaru  - All Time Controls\n",
      "--------------------------------------------------\n",
      "\n",
      "Hikaru played 39057 games\n",
      "\n",
      "  Wins 31045 (79.49%)\n",
      "  Draws 3070 (7.86%)\n",
      "  Loses 4942 (12.65%)\n",
      "\n",
      "Most played opening as\n",
      "    White: Nimzowitsch-Larsen-Attack, with 83.3% winrate\n",
      "    Black: Modern-Defense, with 80.83% winrate\n"
     ]
    }
   ],
   "source": [
    "chess.stats()"
   ]
  },
  {
   "cell_type": "code",
   "execution_count": 9,
   "metadata": {},
   "outputs": [
    {
     "name": "stdout",
     "output_type": "stream",
     "text": [
      "--------------------------------------------------\n",
      "   Chess analysis for Hikaru  - All Time Controls\n",
      "--------------------------------------------------\n",
      "\n",
      "Hikaru played 39057 games\n",
      "\n",
      "  Wins 31045 (79.49%)\n",
      "  Draws 3070 (7.86%)\n",
      "  Loses 4942 (12.65%)\n",
      "\n",
      "Most played opening as\n",
      "    White: Nimzowitsch-Larsen-Attack, with 83.3% winrate\n",
      "    Black: Modern-Defense, with 80.83% winrate\n"
     ]
    }
   ],
   "source": [
    "chess.stats(opponent = 'LPSupi')"
   ]
  },
  {
   "cell_type": "code",
   "execution_count": null,
   "metadata": {},
   "outputs": [],
   "source": [
    "chess.stats('rapid', ArchEnemy = True)"
   ]
  },
  {
   "cell_type": "code",
   "execution_count": null,
   "metadata": {},
   "outputs": [],
   "source": []
  },
  {
   "cell_type": "code",
   "execution_count": null,
   "metadata": {},
   "outputs": [],
   "source": [
    "import pandas as pd\n",
    "#teste = pd.to_datetime(chess.df.time, format='%H:%M:%S')"
   ]
  },
  {
   "cell_type": "code",
   "execution_count": null,
   "metadata": {},
   "outputs": [],
   "source": [
    "teste = pd.to_time(chess.df.time)"
   ]
  },
  {
   "cell_type": "code",
   "execution_count": null,
   "metadata": {},
   "outputs": [],
   "source": [
    "chess.extract('GMKrikor')\n",
    "new_datetime = chess.df.date + \" \" + chess.df.time"
   ]
  },
  {
   "cell_type": "code",
   "execution_count": null,
   "metadata": {},
   "outputs": [],
   "source": [
    "chess.df['datetime'] = pd.to_datetime(new_datetime, format='%d/%m/%Y %H:%M:%S')"
   ]
  },
  {
   "cell_type": "code",
   "execution_count": null,
   "metadata": {},
   "outputs": [],
   "source": [
    "chess.df.sort_values(by='datetime', inplace = True)\n",
    "chess.df.reset_index(drop=True, inplace=True)\n",
    "chess.df.drop(columns=['datetime'], inplace=True)"
   ]
  },
  {
   "cell_type": "code",
   "execution_count": 15,
   "metadata": {},
   "outputs": [
    {
     "data": {
      "text/html": [
       "<div>\n",
       "<style scoped>\n",
       "    .dataframe tbody tr th:only-of-type {\n",
       "        vertical-align: middle;\n",
       "    }\n",
       "\n",
       "    .dataframe tbody tr th {\n",
       "        vertical-align: top;\n",
       "    }\n",
       "\n",
       "    .dataframe thead th {\n",
       "        text-align: right;\n",
       "    }\n",
       "</style>\n",
       "<table border=\"1\" class=\"dataframe\">\n",
       "  <thead>\n",
       "    <tr style=\"text-align: right;\">\n",
       "      <th></th>\n",
       "      <th>player</th>\n",
       "      <th>playerColor</th>\n",
       "      <th>opponent</th>\n",
       "      <th>result</th>\n",
       "      <th>winningReason</th>\n",
       "      <th>playerElo</th>\n",
       "      <th>oponentElo</th>\n",
       "      <th>timeControl</th>\n",
       "      <th>date</th>\n",
       "      <th>time</th>\n",
       "      <th>opening</th>\n",
       "      <th>pgn</th>\n",
       "      <th>id</th>\n",
       "    </tr>\n",
       "  </thead>\n",
       "  <tbody>\n",
       "    <tr>\n",
       "      <th>24900</th>\n",
       "      <td>Hikaru</td>\n",
       "      <td>Black</td>\n",
       "      <td>LPSupi</td>\n",
       "      <td>Winner</td>\n",
       "      <td>resignation</td>\n",
       "      <td>3139</td>\n",
       "      <td>2930</td>\n",
       "      <td>180</td>\n",
       "      <td>2019-07-02</td>\n",
       "      <td>12:50:30</td>\n",
       "      <td>Giuoco-Piano-Game</td>\n",
       "      <td>1. e4 e5 2. Nf3 Nc6 3. Bc4 Bc5 4. O-O Nf6 5. d...</td>\n",
       "      <td>3831025949</td>\n",
       "    </tr>\n",
       "    <tr>\n",
       "      <th>24901</th>\n",
       "      <td>Hikaru</td>\n",
       "      <td>White</td>\n",
       "      <td>LPSupi</td>\n",
       "      <td>Winner</td>\n",
       "      <td>resignation</td>\n",
       "      <td>3143</td>\n",
       "      <td>2926</td>\n",
       "      <td>180</td>\n",
       "      <td>2019-07-02</td>\n",
       "      <td>12:55:34</td>\n",
       "      <td>Nimzowitsch-Larsen-Attack</td>\n",
       "      <td>1. b3 e5 2. Bb2 d6 3. e3 Nf6 4. d4 exd4 5. Qxd...</td>\n",
       "      <td>3831037888</td>\n",
       "    </tr>\n",
       "    <tr>\n",
       "      <th>24902</th>\n",
       "      <td>Hikaru</td>\n",
       "      <td>Black</td>\n",
       "      <td>LPSupi</td>\n",
       "      <td>Winner</td>\n",
       "      <td>resignation</td>\n",
       "      <td>3147</td>\n",
       "      <td>2922</td>\n",
       "      <td>180</td>\n",
       "      <td>2019-07-02</td>\n",
       "      <td>12:59:18</td>\n",
       "      <td>Reti-Opening</td>\n",
       "      <td>1. Nf3 g6 2. g3 Bg7 3. Bg2 d6 4. d4 Nc6 5. d5 ...</td>\n",
       "      <td>3831046662</td>\n",
       "    </tr>\n",
       "    <tr>\n",
       "      <th>24903</th>\n",
       "      <td>Hikaru</td>\n",
       "      <td>White</td>\n",
       "      <td>LPSupi</td>\n",
       "      <td>Winner</td>\n",
       "      <td>resignation</td>\n",
       "      <td>3150</td>\n",
       "      <td>2919</td>\n",
       "      <td>180</td>\n",
       "      <td>2019-07-02</td>\n",
       "      <td>13:03:46</td>\n",
       "      <td>Nimzowitsch-Larsen-Attack</td>\n",
       "      <td>1. b3 e5 2. Bb2 d6 3. e3 Nf6 4. Nf3 g6 5. d4 e...</td>\n",
       "      <td>3831057238</td>\n",
       "    </tr>\n",
       "    <tr>\n",
       "      <th>30828</th>\n",
       "      <td>Hikaru</td>\n",
       "      <td>Black</td>\n",
       "      <td>LPSupi</td>\n",
       "      <td>Winner</td>\n",
       "      <td>resignation</td>\n",
       "      <td>3213</td>\n",
       "      <td>2917</td>\n",
       "      <td>180</td>\n",
       "      <td>2020-05-08</td>\n",
       "      <td>14:07:32</td>\n",
       "      <td>Modern-Defense</td>\n",
       "      <td>1. e4 g6 2. d4 Bg7 3. Nc3 c6 4. Nf3 d6 5. Be2 ...</td>\n",
       "      <td>4828300025</td>\n",
       "    </tr>\n",
       "    <tr>\n",
       "      <th>...</th>\n",
       "      <td>...</td>\n",
       "      <td>...</td>\n",
       "      <td>...</td>\n",
       "      <td>...</td>\n",
       "      <td>...</td>\n",
       "      <td>...</td>\n",
       "      <td>...</td>\n",
       "      <td>...</td>\n",
       "      <td>...</td>\n",
       "      <td>...</td>\n",
       "      <td>...</td>\n",
       "      <td>...</td>\n",
       "      <td>...</td>\n",
       "    </tr>\n",
       "    <tr>\n",
       "      <th>36483</th>\n",
       "      <td>Hikaru</td>\n",
       "      <td>Black</td>\n",
       "      <td>LPSupi</td>\n",
       "      <td>Loser</td>\n",
       "      <td>checkmate</td>\n",
       "      <td>3154</td>\n",
       "      <td>2965</td>\n",
       "      <td>180</td>\n",
       "      <td>2021-04-12</td>\n",
       "      <td>15:48:18</td>\n",
       "      <td>English-Opening</td>\n",
       "      <td>1. c4 g6 2. g3 Bg7 3. Bg2 d6 4. Nc3 Nc6 5. d3 ...</td>\n",
       "      <td>11992398065</td>\n",
       "    </tr>\n",
       "    <tr>\n",
       "      <th>36484</th>\n",
       "      <td>Hikaru</td>\n",
       "      <td>White</td>\n",
       "      <td>LPSupi</td>\n",
       "      <td>Winner</td>\n",
       "      <td>resignation</td>\n",
       "      <td>3158</td>\n",
       "      <td>2961</td>\n",
       "      <td>180</td>\n",
       "      <td>2021-04-12</td>\n",
       "      <td>15:54:39</td>\n",
       "      <td>Sicilian-Defense</td>\n",
       "      <td>1. e4 c5 2. Nf3 d6 3. c3 Nf6 4. h3 Nc6 5. Bd3 ...</td>\n",
       "      <td>11992532553</td>\n",
       "    </tr>\n",
       "    <tr>\n",
       "      <th>36485</th>\n",
       "      <td>Hikaru</td>\n",
       "      <td>Black</td>\n",
       "      <td>LPSupi</td>\n",
       "      <td>Winner</td>\n",
       "      <td>checkmate</td>\n",
       "      <td>3162</td>\n",
       "      <td>2957</td>\n",
       "      <td>180</td>\n",
       "      <td>2021-04-12</td>\n",
       "      <td>15:59:18</td>\n",
       "      <td>English-Opening</td>\n",
       "      <td>1. c4 g6 2. g3 Bg7 3. Bg2 f5 4. Nc3 e5 5. d3 N...</td>\n",
       "      <td>11993020305</td>\n",
       "    </tr>\n",
       "    <tr>\n",
       "      <th>38908</th>\n",
       "      <td>Hikaru</td>\n",
       "      <td>White</td>\n",
       "      <td>LPSupi</td>\n",
       "      <td>Draw</td>\n",
       "      <td>agreement</td>\n",
       "      <td>3155</td>\n",
       "      <td>2912</td>\n",
       "      <td>180</td>\n",
       "      <td>2021-11-12</td>\n",
       "      <td>18:01:20</td>\n",
       "      <td>Sicilian-Defense</td>\n",
       "      <td>1. e4 c5 2. Nf3 d6 3. d4 cxd4 4. Qxd4 a6 5. c4...</td>\n",
       "      <td>30489638095</td>\n",
       "    </tr>\n",
       "    <tr>\n",
       "      <th>38909</th>\n",
       "      <td>Hikaru</td>\n",
       "      <td>Black</td>\n",
       "      <td>LPSupi</td>\n",
       "      <td>Winner</td>\n",
       "      <td>resignation</td>\n",
       "      <td>3158</td>\n",
       "      <td>2909</td>\n",
       "      <td>180</td>\n",
       "      <td>2021-11-12</td>\n",
       "      <td>18:05:55</td>\n",
       "      <td>Modern-Defense</td>\n",
       "      <td>1. e4 g6 2. d4 Bg7 3. Nc3 a6 4. Be3 b5 5. f3 B...</td>\n",
       "      <td>30490162993</td>\n",
       "    </tr>\n",
       "  </tbody>\n",
       "</table>\n",
       "<p>63 rows × 13 columns</p>\n",
       "</div>"
      ],
      "text/plain": [
       "       player playerColor opponent  result winningReason playerElo oponentElo  \\\n",
       "24900  Hikaru       Black   LPSupi  Winner   resignation      3139       2930   \n",
       "24901  Hikaru       White   LPSupi  Winner   resignation      3143       2926   \n",
       "24902  Hikaru       Black   LPSupi  Winner   resignation      3147       2922   \n",
       "24903  Hikaru       White   LPSupi  Winner   resignation      3150       2919   \n",
       "30828  Hikaru       Black   LPSupi  Winner   resignation      3213       2917   \n",
       "...       ...         ...      ...     ...           ...       ...        ...   \n",
       "36483  Hikaru       Black   LPSupi   Loser     checkmate      3154       2965   \n",
       "36484  Hikaru       White   LPSupi  Winner   resignation      3158       2961   \n",
       "36485  Hikaru       Black   LPSupi  Winner     checkmate      3162       2957   \n",
       "38908  Hikaru       White   LPSupi    Draw     agreement      3155       2912   \n",
       "38909  Hikaru       Black   LPSupi  Winner   resignation      3158       2909   \n",
       "\n",
       "      timeControl       date      time                    opening  \\\n",
       "24900         180 2019-07-02  12:50:30          Giuoco-Piano-Game   \n",
       "24901         180 2019-07-02  12:55:34  Nimzowitsch-Larsen-Attack   \n",
       "24902         180 2019-07-02  12:59:18               Reti-Opening   \n",
       "24903         180 2019-07-02  13:03:46  Nimzowitsch-Larsen-Attack   \n",
       "30828         180 2020-05-08  14:07:32             Modern-Defense   \n",
       "...           ...        ...       ...                        ...   \n",
       "36483         180 2021-04-12  15:48:18            English-Opening   \n",
       "36484         180 2021-04-12  15:54:39           Sicilian-Defense   \n",
       "36485         180 2021-04-12  15:59:18            English-Opening   \n",
       "38908         180 2021-11-12  18:01:20           Sicilian-Defense   \n",
       "38909         180 2021-11-12  18:05:55             Modern-Defense   \n",
       "\n",
       "                                                     pgn           id  \n",
       "24900  1. e4 e5 2. Nf3 Nc6 3. Bc4 Bc5 4. O-O Nf6 5. d...   3831025949  \n",
       "24901  1. b3 e5 2. Bb2 d6 3. e3 Nf6 4. d4 exd4 5. Qxd...   3831037888  \n",
       "24902  1. Nf3 g6 2. g3 Bg7 3. Bg2 d6 4. d4 Nc6 5. d5 ...   3831046662  \n",
       "24903  1. b3 e5 2. Bb2 d6 3. e3 Nf6 4. Nf3 g6 5. d4 e...   3831057238  \n",
       "30828  1. e4 g6 2. d4 Bg7 3. Nc3 c6 4. Nf3 d6 5. Be2 ...   4828300025  \n",
       "...                                                  ...          ...  \n",
       "36483  1. c4 g6 2. g3 Bg7 3. Bg2 d6 4. Nc3 Nc6 5. d3 ...  11992398065  \n",
       "36484  1. e4 c5 2. Nf3 d6 3. c3 Nf6 4. h3 Nc6 5. Bd3 ...  11992532553  \n",
       "36485  1. c4 g6 2. g3 Bg7 3. Bg2 f5 4. Nc3 e5 5. d3 N...  11993020305  \n",
       "38908  1. e4 c5 2. Nf3 d6 3. d4 cxd4 4. Qxd4 a6 5. c4...  30489638095  \n",
       "38909  1. e4 g6 2. d4 Bg7 3. Nc3 a6 4. Be3 b5 5. f3 B...  30490162993  \n",
       "\n",
       "[63 rows x 13 columns]"
      ]
     },
     "execution_count": 15,
     "metadata": {},
     "output_type": "execute_result"
    }
   ],
   "source": [
    "chess.df[chess.df.opponent == 'LPSupi']"
   ]
  },
  {
   "cell_type": "code",
   "execution_count": null,
   "metadata": {},
   "outputs": [],
   "source": []
  },
  {
   "cell_type": "code",
   "execution_count": null,
   "metadata": {},
   "outputs": [],
   "source": [
    "print(chess.df)"
   ]
  },
  {
   "cell_type": "code",
   "execution_count": null,
   "metadata": {},
   "outputs": [],
   "source": []
  }
 ],
 "metadata": {
  "kernelspec": {
   "display_name": "Python 3",
   "language": "python",
   "name": "python3"
  },
  "language_info": {
   "codemirror_mode": {
    "name": "ipython",
    "version": 3
   },
   "file_extension": ".py",
   "mimetype": "text/x-python",
   "name": "python",
   "nbconvert_exporter": "python",
   "pygments_lexer": "ipython3",
   "version": "3.8.10"
  }
 },
 "nbformat": 4,
 "nbformat_minor": 4
}
