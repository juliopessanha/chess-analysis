{
 "cells": [
  {
   "cell_type": "code",
   "execution_count": 1,
   "metadata": {},
   "outputs": [],
   "source": [
    "import chesscom\n",
    "\n",
    "chess = chesscom.chess()"
   ]
  },
  {
   "cell_type": "code",
   "execution_count": 2,
   "metadata": {},
   "outputs": [
    {
     "name": "stdout",
     "output_type": "stream",
     "text": [
      "Solving Hallsand online data...\n",
      "Refilling folder /home/julio/Desktop/Data_Projects/chess/chess-analysis/PGN/hallsand/2021-11\n",
      "Hallsand data solved.\n",
      "Creating dataframe\n",
      "Done\n"
     ]
    }
   ],
   "source": [
    "chess.extract('Hallsand')"
   ]
  },
  {
   "cell_type": "code",
   "execution_count": 3,
   "metadata": {
    "scrolled": false
   },
   "outputs": [
    {
     "name": "stdout",
     "output_type": "stream",
     "text": [
      "--------------------------------------------------\n",
      "   Chess analysis for Hallsand  - Rapid\n",
      "--------------------------------------------------\n",
      "Current ELO: 791\n",
      "Peak ELO: 800\n",
      "\n",
      "Hallsand played 3 games\n",
      "\n",
      "  Wins 3 (100.0%)\n",
      "  Draws 0 (0.0%)\n",
      "  Loses 0 (0.0%)\n",
      "\n",
      "Most played opening as\n",
      "    White: Kings-Pawn-Opening, with 100.0% winrate\n",
      "    Black: Pirc-Defense, with 100.0% winrate\n"
     ]
    }
   ],
   "source": [
    "chess.stats('rapid', opponent = 'climatbr')"
   ]
  },
  {
   "cell_type": "code",
   "execution_count": 4,
   "metadata": {
    "scrolled": true
   },
   "outputs": [
    {
     "name": "stdout",
     "output_type": "stream",
     "text": [
      "--------------------------------------------------\n",
      "   Chess analysis for Hallsand  - All Time Controls\n",
      "--------------------------------------------------\n",
      "\n",
      "Hallsand played 520 games\n",
      "\n",
      "  Wins 278 (53.46%)\n",
      "  Draws 16 (3.08%)\n",
      "  Loses 226 (43.46%)\n",
      "\n",
      "Most played opening as\n",
      "    White: Reti-Opening, with 50.68% winrate\n",
      "    Black: Caro-Kann-Defense, with 44.62% winrate\n"
     ]
    }
   ],
   "source": [
    "chess.stats(ArchEnemy = )"
   ]
  },
  {
   "cell_type": "code",
   "execution_count": null,
   "metadata": {},
   "outputs": [],
   "source": [
    "chess.stats('blitz')"
   ]
  },
  {
   "cell_type": "code",
   "execution_count": null,
   "metadata": {},
   "outputs": [],
   "source": []
  }
 ],
 "metadata": {
  "kernelspec": {
   "display_name": "Python 3",
   "language": "python",
   "name": "python3"
  },
  "language_info": {
   "codemirror_mode": {
    "name": "ipython",
    "version": 3
   },
   "file_extension": ".py",
   "mimetype": "text/x-python",
   "name": "python",
   "nbconvert_exporter": "python",
   "pygments_lexer": "ipython3",
   "version": "3.8.10"
  }
 },
 "nbformat": 4,
 "nbformat_minor": 4
}
