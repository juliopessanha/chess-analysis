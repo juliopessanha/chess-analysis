{
 "cells": [
  {
   "cell_type": "code",
   "execution_count": 1,
   "metadata": {},
   "outputs": [],
   "source": [
    "import chesscom\n",
    "\n",
    "chess = chesscom.chess()"
   ]
  },
  {
   "cell_type": "code",
   "execution_count": 2,
   "metadata": {},
   "outputs": [
    {
     "name": "stdout",
     "output_type": "stream",
     "text": [
      "Solving Hallsand online data...\n",
      "Refilling folder /home/julio/Desktop/Data_Projects/chess/chess-analysis/PGN/hallsand/2021-11\n",
      "Hallsand data solved.\n",
      "Creating dataframe\n",
      "Done\n"
     ]
    }
   ],
   "source": [
    "chess.extract('Hallsand')"
   ]
  },
  {
   "cell_type": "code",
   "execution_count": 3,
   "metadata": {
    "scrolled": false
   },
   "outputs": [
    {
     "name": "stdout",
     "output_type": "stream",
     "text": [
      "--------------------------------------------------\n",
      "   Chess analysis for Hallsand  - Rapid\n",
      "--------------------------------------------------\n",
      "Current ELO: 1125\n",
      "Peak ELO: 1125\n",
      "\n",
      "Hallsand played 48 games\n",
      "\n",
      "  Wins 32 (66.67%)\n",
      "  Draws 4 (8.33%)\n",
      "  Loses 12 (25.0%)\n",
      "\n",
      "Most played opening as\n",
      "    White: Reti-Opening, with 66.67% winrate\n",
      "    Black: Pirc-Defense, with 71.43% winrate\n"
     ]
    }
   ],
   "source": [
    "chess.stats('rapid')"
   ]
  },
  {
   "cell_type": "code",
   "execution_count": 4,
   "metadata": {
    "scrolled": false
   },
   "outputs": [
    {
     "name": "stdout",
     "output_type": "stream",
     "text": [
      "--------------------------------------------------\n",
      "   Chess analysis for Hallsand  - All Time Controls\n",
      "--------------------------------------------------\n",
      "\n",
      "Hallsand played 521 games\n",
      "\n",
      "  Wins 279 (53.55%)\n",
      "  Draws 16 (3.07%)\n",
      "  Loses 226 (43.38%)\n",
      "\n",
      "Most played opening as\n",
      "    White: Reti-Opening, with 50.68% winrate\n",
      "    Black: Caro-Kann-Defense, with 45.45% winrate\n",
      "\n",
      "-----------------\n",
      "\n",
      "Arch-enemy: ClimatBR\n",
      "\n",
      "Hallsand won 21 games out of 27 against ClimatBR\n",
      "\n",
      "  Wins: 77.78%\n",
      "  Draws: 0.0%\n",
      "  Loses: 22.22%\n",
      "\n"
     ]
    }
   ],
   "source": [
    "chess.stats(ArchEnemy = True)"
   ]
  },
  {
   "cell_type": "code",
   "execution_count": 5,
   "metadata": {},
   "outputs": [
    {
     "data": {
      "text/plain": [
       "array(['Sicilian-Defense', 'Queens-Gambit', 'Kings-Pawn-Opening',\n",
       "       'Petrovs-Defense', 'Amar-Opening', 'Scandinavian-Defense',\n",
       "       'Center-Game', 'Reti-Opening', 'Nimzowitsch-Defense',\n",
       "       'Alekhines-Defense', 'Queens-Pawn-Opening', 'Philidor-Defense',\n",
       "       'French-Defense', 'Vienna-Game', 'Three-Knights-Opening',\n",
       "       'Caro-Kann-Defense', 'Kings-Fianchetto-Opening', 'Scotch-Game',\n",
       "       'Colle-System', 'Pirc-Defense', 'Four-Knights-Game',\n",
       "       'Giuoco-Piano-Game', 'Saragossa-Opening', 'English-Opening',\n",
       "       'Ruy-Lopez-Opening', 'Grob-Opening', 'Nimzowitsch-Larsen-Attack',\n",
       "       'Italian-Game', 'Modern-Defense', 'Richter-Veresov-Attack',\n",
       "       'Old-Benoni-Defense', 'Englund-Gambit', 'Kings-Indian-Attack',\n",
       "       'Vant-Kruijs-Opening', 'Indian-Game', 'Kings-Indian-Defense',\n",
       "       'Torre-Attack', 'Barnes-Opening', 'Polish-Opening',\n",
       "       'Ponziani-Opening', 'Slav-Defense'], dtype=object)"
      ]
     },
     "execution_count": 5,
     "metadata": {},
     "output_type": "execute_result"
    }
   ],
   "source": [
    "chess.df.opening.unique()"
   ]
  },
  {
   "cell_type": "code",
   "execution_count": null,
   "metadata": {},
   "outputs": [],
   "source": []
  }
 ],
 "metadata": {
  "kernelspec": {
   "display_name": "Python 3",
   "language": "python",
   "name": "python3"
  },
  "language_info": {
   "codemirror_mode": {
    "name": "ipython",
    "version": 3
   },
   "file_extension": ".py",
   "mimetype": "text/x-python",
   "name": "python",
   "nbconvert_exporter": "python",
   "pygments_lexer": "ipython3",
   "version": "3.8.10"
  }
 },
 "nbformat": 4,
 "nbformat_minor": 4
}
