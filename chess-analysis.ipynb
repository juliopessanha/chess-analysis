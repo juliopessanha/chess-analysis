{
 "cells": [
  {
   "cell_type": "code",
   "execution_count": 1,
   "metadata": {},
   "outputs": [],
   "source": [
    "import chesscom\n",
    "\n",
    "chess = chesscom.chess()"
   ]
  },
  {
   "cell_type": "code",
   "execution_count": null,
   "metadata": {},
   "outputs": [
    {
     "name": "stdout",
     "output_type": "stream",
     "text": [
      "Solving Hallsand online data...\n",
      "New folder found /home/julio/Desktop/Data_Projects/chess/chess-analysis/PGN/hallsand/2019-11\n",
      "New folder found /home/julio/Desktop/Data_Projects/chess/chess-analysis/PGN/hallsand/2019-12\n",
      "New folder found /home/julio/Desktop/Data_Projects/chess/chess-analysis/PGN/hallsand/2020-01\n",
      "New folder found /home/julio/Desktop/Data_Projects/chess/chess-analysis/PGN/hallsand/2020-02\n",
      "New folder found /home/julio/Desktop/Data_Projects/chess/chess-analysis/PGN/hallsand/2020-03\n",
      "New folder found /home/julio/Desktop/Data_Projects/chess/chess-analysis/PGN/hallsand/2020-04\n",
      "New folder found /home/julio/Desktop/Data_Projects/chess/chess-analysis/PGN/hallsand/2020-05\n",
      "New folder found /home/julio/Desktop/Data_Projects/chess/chess-analysis/PGN/hallsand/2020-06\n",
      "New folder found /home/julio/Desktop/Data_Projects/chess/chess-analysis/PGN/hallsand/2020-07\n",
      "New folder found /home/julio/Desktop/Data_Projects/chess/chess-analysis/PGN/hallsand/2020-09\n"
     ]
    }
   ],
   "source": [
    "chess.extract('Hallsand')"
   ]
  },
  {
   "cell_type": "code",
   "execution_count": null,
   "metadata": {
    "scrolled": false
   },
   "outputs": [],
   "source": [
    "chess.stats('blitz', opponent = 'climatbr')"
   ]
  },
  {
   "cell_type": "code",
   "execution_count": null,
   "metadata": {
    "scrolled": false
   },
   "outputs": [],
   "source": [
    "chess.stats(ArchEnemy = True)"
   ]
  },
  {
   "cell_type": "code",
   "execution_count": null,
   "metadata": {},
   "outputs": [],
   "source": [
    "chess.stats('blitz')"
   ]
  },
  {
   "cell_type": "code",
   "execution_count": null,
   "metadata": {},
   "outputs": [],
   "source": []
  }
 ],
 "metadata": {
  "kernelspec": {
   "display_name": "Python 3",
   "language": "python",
   "name": "python3"
  },
  "language_info": {
   "codemirror_mode": {
    "name": "ipython",
    "version": 3
   },
   "file_extension": ".py",
   "mimetype": "text/x-python",
   "name": "python",
   "nbconvert_exporter": "python",
   "pygments_lexer": "ipython3",
   "version": "3.8.10"
  }
 },
 "nbformat": 4,
 "nbformat_minor": 4
}
