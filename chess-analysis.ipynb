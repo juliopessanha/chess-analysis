{
 "cells": [
  {
   "cell_type": "code",
   "execution_count": 1,
   "metadata": {},
   "outputs": [],
   "source": [
    "import chesscom\n",
    "\n",
    "chess = chesscom.chess()"
   ]
  },
  {
   "cell_type": "code",
   "execution_count": 2,
   "metadata": {},
   "outputs": [
    {
     "name": "stdout",
     "output_type": "stream",
     "text": [
      "Solving Hallsand online data...\n",
      "Refilling folder /home/julio/Desktop/Data_Projects/chess/chess-analysis/PGN/hallsand/2021-11\n",
      "Hallsand data solved.\n",
      "Creating dataframe\n",
      "Done\n"
     ]
    }
   ],
   "source": [
    "chess.extract('Hallsand')"
   ]
  },
  {
   "cell_type": "code",
   "execution_count": 9,
   "metadata": {
    "scrolled": false
   },
   "outputs": [
    {
     "name": "stdout",
     "output_type": "stream",
     "text": [
      "--------------------------------------------------\n",
      "   Chess analysis for Hallsand  - All Time Controls\n",
      "--------------------------------------------------\n",
      "\n",
      "Hallsand played 32 games\n",
      "\n",
      "  Wins 20 (62.5%)\n",
      "  Draws 2 (6.25%)\n",
      "  Loses 10 (31.25%)\n",
      "\n",
      "Most played opening as\n",
      "    White: Italian-Game, with 66.67% winrate\n",
      "    Black: Indian-Game, with 57.14% winrate\n"
     ]
    }
   ],
   "source": [
    "chess.stats(after = '2021-10-10', before = '2021-11-19')"
   ]
  },
  {
   "cell_type": "code",
   "execution_count": 13,
   "metadata": {},
   "outputs": [
    {
     "name": "stdout",
     "output_type": "stream",
     "text": [
      "--------------------------------------------------\n",
      "   Chess analysis for Hallsand  - Blitz\n",
      "--------------------------------------------------\n",
      "Current ELO: 745\n",
      "Peak ELO: 754\n",
      "\n",
      "Hallsand played 27 games\n",
      "\n",
      "  Wins 16 (59.26%)\n",
      "  Draws 1 (3.7%)\n",
      "  Loses 10 (37.04%)\n",
      "\n",
      "Most played opening as\n",
      "    White: Italian-Game, with 66.67% winrate\n",
      "    Black: Indian-Game, with 66.67% winrate\n"
     ]
    }
   ],
   "source": [
    "chess.stats('blitz', after = '2021-10-10', before = '2021-11-19')"
   ]
  },
  {
   "cell_type": "code",
   "execution_count": 14,
   "metadata": {},
   "outputs": [
    {
     "name": "stdout",
     "output_type": "stream",
     "text": [
      "--------------------------------------------------\n",
      "   Chess analysis for Hallsand  - Rapid\n",
      "--------------------------------------------------\n",
      "Current ELO: 1103\n",
      "Peak ELO: 1119\n",
      "\n",
      "Hallsand played 81 games\n",
      "\n",
      "  Wins 46 (56.79%)\n",
      "  Draws 4 (4.94%)\n",
      "  Loses 31 (38.27%)\n",
      "\n",
      "Most played opening as\n",
      "    White: Reti-Opening, with 66.67% winrate\n",
      "    Black: Pirc-Defense, with 71.43% winrate\n",
      "\n",
      "-----------------\n",
      "\n",
      "Arch-enemy: raayofmoonlight\n",
      "\n",
      "Hallsand won 6 games out of 8 against raayofmoonlight\n",
      "\n",
      "  Wins: 75.0%\n",
      "  Draws: 25.0%\n",
      "  Loses: 0.0%\n",
      "\n"
     ]
    }
   ],
   "source": [
    "chess.stats('rapid', ArchEnemy = True)"
   ]
  },
  {
   "cell_type": "code",
   "execution_count": null,
   "metadata": {},
   "outputs": [],
   "source": []
  },
  {
   "cell_type": "code",
   "execution_count": null,
   "metadata": {},
   "outputs": [],
   "source": []
  },
  {
   "cell_type": "code",
   "execution_count": null,
   "metadata": {},
   "outputs": [],
   "source": []
  },
  {
   "cell_type": "code",
   "execution_count": null,
   "metadata": {},
   "outputs": [],
   "source": []
  }
 ],
 "metadata": {
  "kernelspec": {
   "display_name": "Python 3",
   "language": "python",
   "name": "python3"
  },
  "language_info": {
   "codemirror_mode": {
    "name": "ipython",
    "version": 3
   },
   "file_extension": ".py",
   "mimetype": "text/x-python",
   "name": "python",
   "nbconvert_exporter": "python",
   "pygments_lexer": "ipython3",
   "version": "3.8.10"
  }
 },
 "nbformat": 4,
 "nbformat_minor": 4
}
