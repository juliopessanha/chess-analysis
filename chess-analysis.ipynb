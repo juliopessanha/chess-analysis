{
 "cells": [
  {
   "cell_type": "code",
   "execution_count": 2,
   "metadata": {},
   "outputs": [],
   "source": [
    "import chesscom\n",
    "\n",
    "chess = chesscom.chess()"
   ]
  },
  {
   "cell_type": "code",
   "execution_count": 12,
   "metadata": {},
   "outputs": [
    {
     "name": "stdout",
     "output_type": "stream",
     "text": [
      "Solving Hallsand online data...\n",
      "New folder found /home/julio/Desktop/Data_Projects/chess/chess-analysis/PGN/hallsand/2019-11\n",
      "New folder found /home/julio/Desktop/Data_Projects/chess/chess-analysis/PGN/hallsand/2019-12\n",
      "New folder found /home/julio/Desktop/Data_Projects/chess/chess-analysis/PGN/hallsand/2020-01\n",
      "New folder found /home/julio/Desktop/Data_Projects/chess/chess-analysis/PGN/hallsand/2020-02\n",
      "New folder found /home/julio/Desktop/Data_Projects/chess/chess-analysis/PGN/hallsand/2020-03\n",
      "New folder found /home/julio/Desktop/Data_Projects/chess/chess-analysis/PGN/hallsand/2020-04\n",
      "New folder found /home/julio/Desktop/Data_Projects/chess/chess-analysis/PGN/hallsand/2020-05\n",
      "New folder found /home/julio/Desktop/Data_Projects/chess/chess-analysis/PGN/hallsand/2020-06\n",
      "New folder found /home/julio/Desktop/Data_Projects/chess/chess-analysis/PGN/hallsand/2020-07\n",
      "New folder found /home/julio/Desktop/Data_Projects/chess/chess-analysis/PGN/hallsand/2020-09\n",
      "New folder found /home/julio/Desktop/Data_Projects/chess/chess-analysis/PGN/hallsand/2020-11\n",
      "New folder found /home/julio/Desktop/Data_Projects/chess/chess-analysis/PGN/hallsand/2021-01\n",
      "New folder found /home/julio/Desktop/Data_Projects/chess/chess-analysis/PGN/hallsand/2021-02\n",
      "New folder found /home/julio/Desktop/Data_Projects/chess/chess-analysis/PGN/hallsand/2021-03\n",
      "New folder found /home/julio/Desktop/Data_Projects/chess/chess-analysis/PGN/hallsand/2021-04\n",
      "New folder found /home/julio/Desktop/Data_Projects/chess/chess-analysis/PGN/hallsand/2021-05\n",
      "New folder found /home/julio/Desktop/Data_Projects/chess/chess-analysis/PGN/hallsand/2021-06\n",
      "New folder found /home/julio/Desktop/Data_Projects/chess/chess-analysis/PGN/hallsand/2021-08\n",
      "New folder found /home/julio/Desktop/Data_Projects/chess/chess-analysis/PGN/hallsand/2021-09\n",
      "New folder found /home/julio/Desktop/Data_Projects/chess/chess-analysis/PGN/hallsand/2021-10\n",
      "New folder found /home/julio/Desktop/Data_Projects/chess/chess-analysis/PGN/hallsand/2021-11\n",
      "Hallsand data solved.\n",
      "Creating dataframe\n",
      "Done\n"
     ]
    }
   ],
   "source": [
    "chess.extract('Hallsand', pgn = False)"
   ]
  },
  {
   "cell_type": "code",
   "execution_count": 13,
   "metadata": {
    "scrolled": false
   },
   "outputs": [
    {
     "name": "stdout",
     "output_type": "stream",
     "text": [
      "--------------------------------------------------\n",
      "   Chess analysis for Hallsand  - Rapid\n",
      "--------------------------------------------------\n",
      "Current ELO: 1103\n",
      "Peak ELO: 1119\n",
      "\n",
      "Hallsand played 47 games\n",
      "\n",
      "  Wins 31 (65.96%)\n",
      "  Draws 4 (8.51%)\n",
      "  Loses 12 (25.53%)\n",
      "\n",
      "Most played opening as\n",
      "    White: Reti-Opening, with 66.67% winrate\n",
      "    Black: Pirc-Defense, with 71.43% winrate\n"
     ]
    }
   ],
   "source": [
    "chess.stats('rapid')"
   ]
  },
  {
   "cell_type": "code",
   "execution_count": null,
   "metadata": {
    "scrolled": true
   },
   "outputs": [],
   "source": [
    "chess.stats()"
   ]
  },
  {
   "cell_type": "code",
   "execution_count": null,
   "metadata": {},
   "outputs": [],
   "source": [
    "chess.stats('rapid', ArchEnemy = True)"
   ]
  },
  {
   "cell_type": "markdown",
   "metadata": {},
   "source": [
    "# New features testing"
   ]
  },
  {
   "cell_type": "code",
   "execution_count": null,
   "metadata": {},
   "outputs": [],
   "source": [
    "import matplotlib.pyplot as plt"
   ]
  },
  {
   "cell_type": "code",
   "execution_count": null,
   "metadata": {},
   "outputs": [],
   "source": [
    "chess.extract('GothamChess')"
   ]
  },
  {
   "cell_type": "code",
   "execution_count": null,
   "metadata": {},
   "outputs": [],
   "source": [
    "df = chess.df[chess.df.timeControl != '60']\n",
    "df[(df.date > '2020-09-07') & (df.date < '2020-09-12')]"
   ]
  },
  {
   "cell_type": "code",
   "execution_count": null,
   "metadata": {},
   "outputs": [],
   "source": [
    "import requests\n",
    "import urllib\n",
    "\n",
    "player = 'hallsand'\n",
    "\n",
    "pgn_archives = requests.get('https://api.chess.com/pub/player/'+player.lower()+'/games/archives')"
   ]
  },
  {
   "cell_type": "code",
   "execution_count": null,
   "metadata": {},
   "outputs": [],
   "source": [
    "urllib.request.urlretrieve('https://api.chess.com/pub/player/hallsand/games/2020/09/', \"teste.txt\")\n",
    "pgn = json.loads(requests.get('https://api.chess.com/pub/player/hallsand/games/2020/09').content)"
   ]
  },
  {
   "cell_type": "code",
   "execution_count": null,
   "metadata": {},
   "outputs": [],
   "source": [
    "pgn['games'][0][]"
   ]
  },
  {
   "cell_type": "code",
   "execution_count": null,
   "metadata": {},
   "outputs": [],
   "source": [
    "pgn['games'][0]"
   ]
  },
  {
   "cell_type": "code",
   "execution_count": null,
   "metadata": {},
   "outputs": [],
   "source": [
    "transform_data()"
   ]
  },
  {
   "cell_type": "code",
   "execution_count": null,
   "metadata": {},
   "outputs": [],
   "source": []
  }
 ],
 "metadata": {
  "kernelspec": {
   "display_name": "Python 3",
   "language": "python",
   "name": "python3"
  },
  "language_info": {
   "codemirror_mode": {
    "name": "ipython",
    "version": 3
   },
   "file_extension": ".py",
   "mimetype": "text/x-python",
   "name": "python",
   "nbconvert_exporter": "python",
   "pygments_lexer": "ipython3",
   "version": "3.8.10"
  }
 },
 "nbformat": 4,
 "nbformat_minor": 4
}
