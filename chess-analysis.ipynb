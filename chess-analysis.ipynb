{
 "cells": [
  {
   "cell_type": "code",
   "execution_count": null,
   "metadata": {},
   "outputs": [],
   "source": [
    "import extract_games\n",
    "\n",
    "#Get some information to print later by a given dataframe\n",
    "def get_print_info(dataFrame):\n",
    "    \n",
    "    #Total games played\n",
    "    total_games = dataFrame.shape[0]\n",
    "    \n",
    "    #How many games tha player won\n",
    "    games_won = dataFrame[dataFrame.result == 'Winner'].shape[0]\n",
    "    #How many games tha player won\n",
    "    games_lost = dataFrame[dataFrame.result == 'Loser'].shape[0]\n",
    "    #How many games tha player won\n",
    "    games_drew = dataFrame[dataFrame.result == 'Draw'].shape[0]\n",
    "    \n",
    "    return(games_won, games_lost, games_drew, total_games)\n",
    "\n",
    "#Returns a percentage. To recude verbosity\n",
    "def percent(numerator, denominator):\n",
    "    return(round(((numerator / denominator)*100), 2))\n",
    "\n",
    "#returns a dataframe with only rows where the player used a specific color and the most played opening\n",
    "def get_color_opening(df_in, color):\n",
    "    df_Games = df[df_in.playerColor == color] #Gets the chosen color\n",
    "    df_Games = df_Games[df_Games.opening == df_Games.opening.mode()[0]] #Returns the most played opening in that color\n",
    "    return(df_Games)\n",
    "\n",
    "#Print some data from a given dataframe\n",
    "def color_analysis_print(df_color):\n",
    "    #Gets the player color\n",
    "    color = df_color.playerColor.iloc[0]\n",
    "    #get's some information to print\n",
    "    games_won, games_lost, games_drew, total_games = get_print_info(df_color)\n",
    "\n",
    "    percent_win = percent(games_won, total_games)\n",
    "    percent_draw = percent(games_drew, total_games)\n",
    "    percent_lost = percent(games_lost, total_games)\n",
    "    #Print the information\n",
    "    print(\"    %s: %s, with %s%% winrate\" % (color, df_color.opening.mode()[0], percent_win))"
   ]
  },
  {
   "cell_type": "code",
   "execution_count": null,
   "metadata": {},
   "outputs": [],
   "source": [
    "df = extract_games.main(\"Hikaru\")"
   ]
  },
  {
   "cell_type": "code",
   "execution_count": 3,
   "metadata": {},
   "outputs": [
    {
     "name": "stdout",
     "output_type": "stream",
     "text": [
      "--------------------------------------------------\n",
      "      Chess analysis for Hikaru \n",
      "--------------------------------------------------\n",
      "Arch-enemy: DanielNaroditsky\n",
      "\n",
      "Hikaru won 1486 games out of 2363 against DanielNaroditsky\n",
      "\n",
      "  Wins: 62.89%\n",
      "  Draws: 14.6%\n",
      "  Loses: 22.51%\n",
      "\n",
      "-----------------\n",
      "\n",
      "Most played opening as\n",
      "    White: Nimzowitsch-Larsen-Attack, with 83.3% winrate\n",
      "    Black: Modern-Defense, with 80.86% winrate\n"
     ]
    }
   ],
   "source": [
    "print(\"--------------------------------------------------\")\n",
    "player = df.player.iloc[0]\n",
    "print(\"      Chess analysis for %s \" % (player))\n",
    "print(\"--------------------------------------------------\")\n",
    "\n",
    "#The opponent the player most played agaisnt\n",
    "df_mostPlayed = df[df.opponent == df.opponent.mode()[0]]\n",
    "print('Arch-enemy: %s\\n' % (df_mostPlayed.opponent.iloc[0]))\n",
    "\n",
    "#Some info to print\n",
    "games_won, games_lost, games_drew, total_games = get_print_info(df_mostPlayed)\n",
    "\n",
    "percent_win = percent(games_won, total_games)\n",
    "percent_draw = percent(games_drew, total_games)\n",
    "percent_lost = percent(games_lost, total_games)\n",
    "\n",
    "print('%s won %s games out of %s against %s\\n' % \\\n",
    "      (player, games_won, total_games, df_mostPlayed.opponent.iloc[0]))\n",
    "\n",
    "del df_mostPlayed\n",
    "print('  Wins: %s%%\\n  Draws: %s%%\\n  Loses: %s%%\\n' % (percent_win, percent_draw, percent_lost))\n",
    "\n",
    "\n",
    "#########################################################################\n",
    "print(\"-----------------\")\n",
    "print('\\nMost played opening as')\n",
    "\n",
    "df_whiteGames = get_color_opening(df, 'White')\n",
    "color_analysis_print(df_whiteGames)\n",
    "del df_whiteGames\n",
    "\n",
    "df_blackGames = get_color_opening(df, 'Black')\n",
    "color_analysis_print(df_blackGames)\n",
    "del df_blackGames"
   ]
  }
 ],
 "metadata": {
  "kernelspec": {
   "display_name": "Python 3",
   "language": "python",
   "name": "python3"
  },
  "language_info": {
   "codemirror_mode": {
    "name": "ipython",
    "version": 3
   },
   "file_extension": ".py",
   "mimetype": "text/x-python",
   "name": "python",
   "nbconvert_exporter": "python",
   "pygments_lexer": "ipython3",
   "version": "3.8.10"
  }
 },
 "nbformat": 4,
 "nbformat_minor": 4
}
