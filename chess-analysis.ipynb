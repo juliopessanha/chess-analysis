{
 "cells": [
  {
   "cell_type": "code",
   "execution_count": 1,
   "metadata": {},
   "outputs": [],
   "source": [
    "import chesscom\n",
    "\n",
    "chess = chesscom.chess()"
   ]
  },
  {
   "cell_type": "code",
   "execution_count": null,
   "metadata": {},
   "outputs": [],
   "source": [
    "chess.extract('GMKrikor')"
   ]
  },
  {
   "cell_type": "code",
   "execution_count": 55,
   "metadata": {
    "scrolled": false
   },
   "outputs": [
    {
     "name": "stdout",
     "output_type": "stream",
     "text": [
      "--------------------------------------------------\n",
      "   Chess analysis for GMKrikor  - All Time Controls\n",
      "--------------------------------------------------\n",
      "Current ELO: 2719\n",
      "Peak ELO: 2974\n",
      "\n",
      "GMKrikor played 21130 games\n",
      "\n",
      "  Wins 13475 (63.77%)\n",
      "  Draws 1850 (8.76%)\n",
      "  Loses 5805 (27.47%)\n",
      "\n",
      "Most played opening as\n",
      "    White: English-Opening, with 58.62% winrate\n",
      "    Black: Sicilian-Defense, with 62.38% winrate\n",
      "\n",
      "-----------------\n",
      "\n",
      "Arch-enemy: RobertoJBM\n",
      "\n",
      "GMKrikor won 131 games out of 292 against RobertoJBM\n",
      "\n",
      "  Wins: 44.86%\n",
      "  Draws: 19.18%\n",
      "  Loses: 35.96%\n",
      "\n"
     ]
    }
   ],
   "source": [
    "chess.stats()"
   ]
  },
  {
   "cell_type": "code",
   "execution_count": 56,
   "metadata": {},
   "outputs": [
    {
     "name": "stdout",
     "output_type": "stream",
     "text": [
      "--------------------------------------------------\n",
      "   Chess analysis for GMKrikor  - Blitz\n",
      "--------------------------------------------------\n",
      "Current ELO: 2719\n",
      "Peak ELO: 2974\n",
      "\n",
      "GMKrikor played 14971 games\n",
      "\n",
      "  Wins 9249 (61.78%)\n",
      "  Draws 1521 (10.16%)\n",
      "  Loses 4201 (28.06%)\n",
      "\n",
      "Most played opening as\n",
      "    White: English-Opening, with 57.46% winrate\n",
      "    Black: Sicilian-Defense, with 60.33% winrate\n",
      "\n",
      "-----------------\n",
      "\n",
      "Arch-enemy: Yaacovn\n",
      "\n",
      "GMKrikor won 55 games out of 132 against Yaacovn\n",
      "\n",
      "  Wins: 41.67%\n",
      "  Draws: 13.64%\n",
      "  Loses: 44.7%\n",
      "\n"
     ]
    }
   ],
   "source": [
    "chess.stats('blitz')"
   ]
  },
  {
   "cell_type": "code",
   "execution_count": 57,
   "metadata": {},
   "outputs": [
    {
     "name": "stdout",
     "output_type": "stream",
     "text": [
      "--------------------------------------------------\n",
      "   Chess analysis for GMKrikor  - Rapid\n",
      "--------------------------------------------------\n",
      "Current ELO: 2571\n",
      "Peak ELO: 2866\n",
      "\n",
      "GMKrikor played 347 games\n",
      "\n",
      "  Wins 267 (76.95%)\n",
      "  Draws 32 (9.22%)\n",
      "  Loses 48 (13.83%)\n",
      "\n",
      "Most played opening as\n",
      "    White: Sicilian-Defense, with 83.87% winrate\n",
      "    Black: Sicilian-Defense, with 82.69% winrate\n",
      "\n",
      "-----------------\n",
      "\n",
      "Arch-enemy: Komodo16\n",
      "\n",
      "GMKrikor won 2 games out of 7 against Komodo16\n",
      "\n",
      "  Wins: 28.57%\n",
      "  Draws: 28.57%\n",
      "  Loses: 42.86%\n",
      "\n"
     ]
    }
   ],
   "source": [
    "chess.stats('rapid')"
   ]
  },
  {
   "cell_type": "code",
   "execution_count": null,
   "metadata": {},
   "outputs": [],
   "source": []
  }
 ],
 "metadata": {
  "kernelspec": {
   "display_name": "Python 3",
   "language": "python",
   "name": "python3"
  },
  "language_info": {
   "codemirror_mode": {
    "name": "ipython",
    "version": 3
   },
   "file_extension": ".py",
   "mimetype": "text/x-python",
   "name": "python",
   "nbconvert_exporter": "python",
   "pygments_lexer": "ipython3",
   "version": "3.8.10"
  }
 },
 "nbformat": 4,
 "nbformat_minor": 4
}
